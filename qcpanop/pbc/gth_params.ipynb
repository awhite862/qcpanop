{
 "cells": [
  {
   "cell_type": "code",
   "execution_count": 1,
   "id": "a3fff6f9",
   "metadata": {},
   "outputs": [],
   "source": [
    "import numpy as np\n",
    "\n",
    "from pw_scf import plane_wave_basis\n",
    "from pw_scf import get_nonlocal_pseudopotential_matrix_elements\n",
    "from pw_scf import get_local_pseudopotential_gth\n",
    "from pw_scf import get_matrix_elements\n",
    "\n",
    "from pyscf.pbc import gto"
   ]
  },
  {
   "cell_type": "code",
   "execution_count": 2,
   "id": "69097397",
   "metadata": {},
   "outputs": [],
   "source": [
    "def print_gth_parameters(cell, basis):\n",
    "\n",
    "    \"\"\"\n",
    "\n",
    "    print the GTH pseudopotential parameters\n",
    "\n",
    "    :param cell: the unit cell\n",
    "    :param basis: planewave basis information (contains gth parameters)\n",
    "\n",
    "    \"\"\"\n",
    "\n",
    "    print('')\n",
    "    print('    ==> GTH pseudopotential parameters (local) <==')\n",
    "    print('')\n",
    "\n",
    "\n",
    "    natom = len(cell._atom)\n",
    "\n",
    "    for center in range (0, natom):\n",
    "        \n",
    "        params = basis.gth_params[center]\n",
    "\n",
    "        print('        atom: %20s' % ( cell._atom[center][0] ) )\n",
    "        print('        Zion: %20i' % ( params.Zion ) )\n",
    "        print('        rloc: %20.12lf' % ( params.rloc ) )\n",
    "        print('        c1:   %20.12lf' % ( params.local_cn[0] ) )\n",
    "        print('        c2:   %20.12lf' % ( params.local_cn[1] ) )\n",
    "        print('        c3:   %20.12lf' % ( params.local_cn[2] ) )\n",
    "        print('        c4:   %20.12lf' % ( params.local_cn[3] ) )\n",
    "        print('')\n",
    "\n",
    "    print('    ==> GTH pseudopotential parameters (non-local) <==')\n",
    "    print('')\n",
    "\n",
    "    for center in range (0, natom):\n",
    "        \n",
    "        params = basis.gth_params[center]\n",
    "\n",
    "        print('        atom: %20s' % ( cell._atom[center][0] ) )\n",
    "        rl = params.rl\n",
    "        print('        rl:   %20.12lf %20.12lf %20.12lf' % ( rl[0], rl[1], rl[2] ) )\n",
    "        print('        h^l_ij:')\n",
    "\n",
    "        for l in range (0, 3):\n",
    "            h = params.hgth\n",
    "            print('')\n",
    "            print('            l = %i' % ( l ) )\n",
    "            for i in range (0, 3):\n",
    "                print('            %20.12lf %20.12lf %20.12lf' % ( h[l, i, 0], h[l, i, 1], h[l, i, 2] ) )\n",
    "        print('')"
   ]
  },
  {
   "cell_type": "code",
   "execution_count": 3,
   "id": "01701c69",
   "metadata": {},
   "outputs": [
    {
     "data": {
      "text/plain": [
       "<pyscf.pbc.gto.cell.Cell at 0x7fde67a3cc40>"
      ]
     },
     "execution_count": 3,
     "metadata": {},
     "output_type": "execute_result"
    }
   ],
   "source": [
    "# build a unit cell\n",
    "a = np.eye(3) * 4.0\n",
    "atom = 'Ag 0 0 0'\n",
    "\n",
    "cell = gto.M(a = a,\n",
    "             atom = atom,\n",
    "             unit = 'bohr',\n",
    "             basis = 'sto-3g',\n",
    "             pseudo = 'gth-blyp',\n",
    "             precision = 1.0e-8,\n",
    "             spin = 1,\n",
    "             dimension = 3)\n",
    "cell.build()"
   ]
  },
  {
   "cell_type": "code",
   "execution_count": 4,
   "id": "bf72b75f",
   "metadata": {},
   "outputs": [
    {
     "name": "stdout",
     "output_type": "stream",
     "text": [
      "\n",
      "    no. k-points:                                                   1\n",
      "    KE cutoff (eV)                                             500.00\n",
      "    no. basis functions (density):                               1935\n",
      "    no. basis functions (orbitals, gamma point):                  251\n"
     ]
    }
   ],
   "source": [
    "# get plane wave basis information\n",
    "basis = plane_wave_basis(cell,                            \n",
    "                         ke_cutoff = 500.0 / 27.21138602,\n",
    "                         n_kpts = [1, 1, 1])\n",
    "print(\"\")\n",
    "print('    no. k-points:                                %20i' % ( len(basis.kpts) ) )\n",
    "print('    KE cutoff (eV)                               %20.2f' % ( basis.ke_cutoff * 27.21138602 ) )\n",
    "print('    no. basis functions (density):               %20i' % ( len(basis.g) ) )\n",
    "print('    no. basis functions (orbitals, gamma point): %20i' % ( basis.n_plane_waves_per_k[0] ) )"
   ]
  },
  {
   "cell_type": "code",
   "execution_count": 5,
   "id": "17c5d30c",
   "metadata": {
    "scrolled": false
   },
   "outputs": [
    {
     "name": "stdout",
     "output_type": "stream",
     "text": [
      "\n",
      "    ==> GTH pseudopotential parameters (local) <==\n",
      "\n",
      "        atom:                   Ag\n",
      "        Zion:                   11\n",
      "        rloc:       0.570000000000\n",
      "        c1:         0.273298710000\n",
      "        c2:         0.000000000000\n",
      "        c3:         0.000000000000\n",
      "        c4:         0.000000000000\n",
      "\n",
      "    ==> GTH pseudopotential parameters (non-local) <==\n",
      "\n",
      "        atom:                   Ag\n",
      "        rl:         0.531136910000       0.625721230000       0.408327850000\n",
      "        h^l_ij:\n",
      "\n",
      "            l = 0\n",
      "                  9.454478590000      -4.739864100000       0.595127480000\n",
      "                 -4.739864100000       7.087113170000      -1.536612560000\n",
      "                  0.595127480000      -1.536612560000       1.219648410000\n",
      "\n",
      "            l = 1\n",
      "                  3.906195330000      -1.717749750000       0.000000000000\n",
      "                 -1.717749750000       2.032468910000       0.000000000000\n",
      "                  0.000000000000       0.000000000000       0.000000000000\n",
      "\n",
      "            l = 2\n",
      "                 -2.776101640000      -0.361783380000       0.000000000000\n",
      "                 -0.361783380000       0.410223800000       0.000000000000\n",
      "                  0.000000000000       0.000000000000       0.000000000000\n",
      "\n"
     ]
    }
   ],
   "source": [
    "# print gth pseudopotential parameters\n",
    "print_gth_parameters(cell, basis)"
   ]
  },
  {
   "cell_type": "code",
   "execution_count": 6,
   "id": "6ea05e14",
   "metadata": {},
   "outputs": [],
   "source": [
    "# grab the gth pseudopotential parameters (local):\n",
    "# Zion, rloc, c1, c2, c3, c4\n",
    "\n",
    "natom = len(cell._atom)\n",
    "\n",
    "for center in range (0, natom):\n",
    "    \n",
    "    params = basis.gth_params[center]\n",
    "    \n",
    "    Zion = params.Zion\n",
    "    rloc = params.rloc\n",
    "    c1 = params.local_cn[0]\n",
    "    c2 = params.local_cn[1]\n",
    "    c3 = params.local_cn[2]\n",
    "    c4 = params.local_cn[3]"
   ]
  },
  {
   "cell_type": "code",
   "execution_count": 7,
   "id": "595270d7",
   "metadata": {},
   "outputs": [],
   "source": [
    "# grab the gth pseudopotential parameters (nonlocal):\n",
    "# rl, hlij\n",
    "for center in range (0, natom):\n",
    "    \n",
    "    params = basis.gth_params[center]\n",
    "\n",
    "    rl = params.rl\n",
    "    h_lij = params.hgth\n",
    "     "
   ]
  },
  {
   "cell_type": "code",
   "execution_count": 8,
   "id": "ee4eb874",
   "metadata": {},
   "outputs": [],
   "source": [
    "# get local component of the pseudopotential in \n",
    "# the planewave basis for the density (E <= 2 x ke_cutoff)\n",
    "# vl(K) = Eq. 50, 51 of the note\n",
    "vl = get_local_pseudopotential_gth(basis)\n",
    "\n",
    "# get the matrix elements of vl: <G'|vl|G''> = vl(G'-G'')\n",
    "# in the planewave basis for the orbitals (E <= ke_cutoff)\n",
    "# note that the dimension of this basis may not be the \n",
    "# same for all k-points\n",
    "for kid in range (0, len(basis.kpts) ):\n",
    "    vl_mat = get_matrix_elements(basis, kid, vl) "
   ]
  },
  {
   "cell_type": "code",
   "execution_count": 9,
   "id": "fded7417",
   "metadata": {},
   "outputs": [
    {
     "name": "stdout",
     "output_type": "stream",
     "text": [
      "2.2995784460659235e-15\n"
     ]
    }
   ],
   "source": [
    "# get nonlocal components of the pseudopotential matrix in\n",
    "# the planewave basis for the oribtals (E <= ke_cutoff). note\n",
    "# that the dimension of this basis may not be the same for\n",
    "# all k-points. note also that we can replace the spherical\n",
    "# harmonics in Eq. 59 of the note with their sum rule with \n",
    "# use_legendre = True\n",
    "for kid in range (0, len(basis.kpts) ):\n",
    "    \n",
    "    # vnl(G',G'') = Eq. 59 of the note\n",
    "    vnl_mat = get_nonlocal_pseudopotential_matrix_elements(basis, kid, use_legendre = False)\n",
    "    \n",
    "    # vnl(G',G'') = Eq. 59 of the note, with sum rule for the spherical harmonics\n",
    "    vnl_mat_legendre = get_nonlocal_pseudopotential_matrix_elements(basis, kid, use_legendre = True)\n",
    "    \n",
    "    # check equivalence of vnl_mat and vnl_mat_legendre\n",
    "    print(np.linalg.norm(vnl_mat - vnl_mat_legendre))"
   ]
  },
  {
   "cell_type": "code",
   "execution_count": null,
   "id": "d35e61ce",
   "metadata": {},
   "outputs": [],
   "source": []
  }
 ],
 "metadata": {
  "kernelspec": {
   "display_name": "Python 3 (ipykernel)",
   "language": "python",
   "name": "python3"
  },
  "language_info": {
   "codemirror_mode": {
    "name": "ipython",
    "version": 3
   },
   "file_extension": ".py",
   "mimetype": "text/x-python",
   "name": "python",
   "nbconvert_exporter": "python",
   "pygments_lexer": "ipython3",
   "version": "3.9.12"
  }
 },
 "nbformat": 4,
 "nbformat_minor": 5
}
