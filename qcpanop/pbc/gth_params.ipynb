{
 "cells": [
  {
   "cell_type": "code",
   "execution_count": 1,
   "id": "05c2f61f",
   "metadata": {},
   "outputs": [],
   "source": [
    "import numpy as np\n",
    "\n",
    "from pw_scf import plane_wave_basis\n",
    "from pw_scf import get_gth_pseudopotential\n",
    "\n",
    "from pyscf.pbc import gto"
   ]
  },
  {
   "cell_type": "code",
   "execution_count": 2,
   "id": "5bb3ea12",
   "metadata": {},
   "outputs": [],
   "source": [
    "def print_gth_parameters(cell, basis):\n",
    "\n",
    "    \"\"\"\n",
    "\n",
    "    print the GTH pseudopotential parameters\n",
    "\n",
    "    :param cell: the unit cell\n",
    "    :param basis: planewave basis information (contains gth parameters)\n",
    "\n",
    "    \"\"\"\n",
    "\n",
    "    print('')\n",
    "    print('    ==> GTH pseudopotential parameters (local) <==')\n",
    "    print('')\n",
    "\n",
    "\n",
    "    natom = len(cell._atom)\n",
    "\n",
    "    for center in range (0, natom):\n",
    "        \n",
    "        params = basis.gth_params[center]\n",
    "\n",
    "        print('        atom: %20s' % ( cell._atom[center][0] ) )\n",
    "        print('        Zion: %20i' % ( params.Zion ) )\n",
    "        print('        rloc: %20.12lf' % ( params.rloc ) )\n",
    "        print('        c1:   %20.12lf' % ( params.local_cn[0] ) )\n",
    "        print('        c2:   %20.12lf' % ( params.local_cn[1] ) )\n",
    "        print('        c3:   %20.12lf' % ( params.local_cn[2] ) )\n",
    "        print('        c4:   %20.12lf' % ( params.local_cn[3] ) )\n",
    "        print('')\n",
    "\n",
    "    print('    ==> GTH pseudopotential parameters (non-local) <==')\n",
    "    print('')\n",
    "\n",
    "    for center in range (0, natom):\n",
    "        \n",
    "        params = basis.gth_params[center]\n",
    "\n",
    "        print('        atom: %20s' % ( cell._atom[center][0] ) )\n",
    "        rl = params.rl\n",
    "        print('        rl:   %20.12lf %20.12lf %20.12lf' % ( rl[0], rl[1], rl[2] ) )\n",
    "        print('        h^l_ij:')\n",
    "\n",
    "        for l in range (0, 3):\n",
    "            h = params.hgth\n",
    "            print('')\n",
    "            print('            l = %i' % ( l ) )\n",
    "            for i in range (0, 3):\n",
    "                print('            %20.12lf %20.12lf %20.12lf' % ( h[l, i, 0], h[l, i, 1], h[l, i, 2] ) )\n",
    "        print('')"
   ]
  },
  {
   "cell_type": "code",
   "execution_count": 3,
   "id": "3acb6b45",
   "metadata": {},
   "outputs": [
    {
     "data": {
      "text/plain": [
       "<pyscf.pbc.gto.cell.Cell at 0x7fd400a8e340>"
      ]
     },
     "execution_count": 3,
     "metadata": {},
     "output_type": "execute_result"
    }
   ],
   "source": [
    "# build a unit cell\n",
    "a = np.eye(3) * 4.0\n",
    "atom = 'Si 0 0 0'\n",
    "\n",
    "cell = gto.M(a = a,\n",
    "             atom = atom,\n",
    "             unit = 'bohr',\n",
    "             basis = 'sto-3g',\n",
    "             pseudo = 'gth-blyp',\n",
    "             precision = 1.0e-8,\n",
    "             dimension = 3)\n",
    "cell.build()"
   ]
  },
  {
   "cell_type": "code",
   "execution_count": 4,
   "id": "e8158c90",
   "metadata": {},
   "outputs": [
    {
     "name": "stdout",
     "output_type": "stream",
     "text": [
      "\n",
      "    no. k-points:                                                   1\n",
      "    KE cutoff (eV)                                             500.00\n",
      "    no. basis functions (orbitals, gamma point):                  251\n"
     ]
    }
   ],
   "source": [
    "# get plane wave basis information\n",
    "basis = plane_wave_basis(cell,                            \n",
    "                         ke_cutoff = 500.0 / 27.21138602,\n",
    "                         n_kpts = [1, 1, 1],\n",
    "                         use_pseudopotential = True)\n",
    "\n",
    "print(\"\")\n",
    "print('    no. k-points:                                %20i' % ( len(basis.kpts) ) )\n",
    "print('    KE cutoff (eV)                               %20.2f' % ( basis.ke_cutoff * 27.21138602 ) )\n",
    "print('    no. basis functions (orbitals, gamma point): %20i' % ( basis.n_plane_waves_per_k[0] ) )"
   ]
  },
  {
   "cell_type": "code",
   "execution_count": 5,
   "id": "b5bea215",
   "metadata": {
    "scrolled": false
   },
   "outputs": [
    {
     "name": "stdout",
     "output_type": "stream",
     "text": [
      "\n",
      "    ==> GTH pseudopotential parameters (local) <==\n",
      "\n",
      "        atom:                   Si\n",
      "        Zion:                    4\n",
      "        rloc:       0.440000000000\n",
      "        c1:        -6.259586740000\n",
      "        c2:         0.000000000000\n",
      "        c3:         0.000000000000\n",
      "        c4:         0.000000000000\n",
      "\n",
      "    ==> GTH pseudopotential parameters (non-local) <==\n",
      "\n",
      "        atom:                   Si\n",
      "        rl:         0.444652470000       0.502792070000       0.000000000000\n",
      "        h^l_ij:\n",
      "\n",
      "            l = 0\n",
      "                  8.314609360000      -2.332779470000       0.000000000000\n",
      "                 -2.332779470000       3.011605350000       0.000000000000\n",
      "                  0.000000000000       0.000000000000       0.000000000000\n",
      "\n",
      "            l = 1\n",
      "                  2.332417910000       0.000000000000       0.000000000000\n",
      "                  0.000000000000       0.000000000000       0.000000000000\n",
      "                  0.000000000000       0.000000000000       0.000000000000\n",
      "\n",
      "            l = 2\n",
      "                  0.000000000000       0.000000000000       0.000000000000\n",
      "                  0.000000000000       0.000000000000       0.000000000000\n",
      "                  0.000000000000       0.000000000000       0.000000000000\n",
      "\n"
     ]
    }
   ],
   "source": [
    "# print gth pseudopotential parameters\n",
    "print_gth_parameters(cell, basis)"
   ]
  },
  {
   "cell_type": "code",
   "execution_count": 6,
   "id": "f43d5676",
   "metadata": {},
   "outputs": [],
   "source": [
    "# grab the gth pseudopotential parameters (local):\n",
    "# Zion, rloc, c1, c2, c3, c4\n",
    "\n",
    "natom = len(cell._atom)\n",
    "\n",
    "for center in range (0, natom):\n",
    "    \n",
    "    params = basis.gth_params[center]\n",
    "    \n",
    "    Zion = params.Zion\n",
    "    rloc = params.rloc\n",
    "    c1 = params.local_cn[0]\n",
    "    c2 = params.local_cn[1]\n",
    "    c3 = params.local_cn[2]\n",
    "    c4 = params.local_cn[3]"
   ]
  },
  {
   "cell_type": "code",
   "execution_count": 7,
   "id": "713edcb0",
   "metadata": {},
   "outputs": [],
   "source": [
    "# grab the gth pseudopotential parameters (nonlocal):\n",
    "# rl, hlij\n",
    "for center in range (0, natom):\n",
    "    \n",
    "    params = basis.gth_params[center]\n",
    "\n",
    "    rl = params.rl\n",
    "    h_lij = params.hgth\n",
    "     "
   ]
  },
  {
   "cell_type": "code",
   "execution_count": 8,
   "id": "389b13e8",
   "metadata": {},
   "outputs": [],
   "source": [
    "# get local components of the pseudopotential matrix\n",
    "for kid in range (0, len(basis.kpts) ):\n",
    "    vl = get_gth_pseudopotential(basis, kid, pp_component = 'local')"
   ]
  },
  {
   "cell_type": "code",
   "execution_count": 9,
   "id": "24e886f5",
   "metadata": {},
   "outputs": [],
   "source": [
    "# get local components of the pseudopotential matrix\n",
    "for kid in range (0, len(basis.kpts) ):\n",
    "    vnl = get_gth_pseudopotential(basis, kid, pp_component = 'nonlocal')"
   ]
  }
 ],
 "metadata": {
  "kernelspec": {
   "display_name": "Python 3 (ipykernel)",
   "language": "python",
   "name": "python3"
  },
  "language_info": {
   "codemirror_mode": {
    "name": "ipython",
    "version": 3
   },
   "file_extension": ".py",
   "mimetype": "text/x-python",
   "name": "python",
   "nbconvert_exporter": "python",
   "pygments_lexer": "ipython3",
   "version": "3.9.12"
  }
 },
 "nbformat": 4,
 "nbformat_minor": 5
}
