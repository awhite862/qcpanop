{
 "cells": [
  {
   "cell_type": "code",
   "execution_count": 1,
   "id": "06ff8644",
   "metadata": {},
   "outputs": [],
   "source": [
    "import numpy as np\n",
    "\n",
    "from pw_scf import plane_wave_basis\n",
    "from pw_scf import get_gth_pseudopotential\n",
    "\n",
    "from pyscf.pbc import gto"
   ]
  },
  {
   "cell_type": "code",
   "execution_count": 2,
   "id": "86e52e30",
   "metadata": {},
   "outputs": [],
   "source": [
    "def print_gth_parameters(cell, basis):\n",
    "\n",
    "    \"\"\"\n",
    "\n",
    "    print the GTH pseudopotential parameters\n",
    "\n",
    "    :param cell: the unit cell\n",
    "    :param basis: planewave basis information (contains gth parameters)\n",
    "\n",
    "    \"\"\"\n",
    "\n",
    "    print('')\n",
    "    print('    ==> GTH pseudopotential parameters (local) <==')\n",
    "    print('')\n",
    "\n",
    "    params = basis.gth_params\n",
    "\n",
    "    natom = len(cell._atom)\n",
    "\n",
    "    for center in range (0, natom):\n",
    "        print('        atom: %20s' % ( cell._atom[center][0] ) )\n",
    "        print('        Zion: %20i' % ( params.Zion[center] ) )\n",
    "        print('        rloc: %20.12lf' % ( params.rloc[center] ) )\n",
    "        print('        c1:   %20.12lf' % ( params.local_cn[center][0] ) )\n",
    "        print('        c2:   %20.12lf' % ( params.local_cn[center][1] ) )\n",
    "        print('        c3:   %20.12lf' % ( params.local_cn[center][2] ) )\n",
    "        print('        c4:   %20.12lf' % ( params.local_cn[center][3] ) )\n",
    "        print('')\n",
    "\n",
    "    print('    ==> GTH pseudopotential parameters (non-local) <==')\n",
    "    print('')\n",
    "\n",
    "    for center in range (0, natom):\n",
    "\n",
    "        print('        atom: %20s' % ( cell._atom[center][0] ) )\n",
    "        rl = params.rl[center]\n",
    "        print('        rl:   %20.12lf %20.12lf %20.12lf' % ( rl[0], rl[1], rl[2] ) )\n",
    "        print('        h^l_ij:')\n",
    "\n",
    "        for l in range (0, 3):\n",
    "            h = params.hgth[center]\n",
    "            print('')\n",
    "            print('            l = %i' % ( l ) )\n",
    "            for i in range (0, 3):\n",
    "                print('            %20.12lf %20.12lf %20.12lf' % ( h[l, i, 0], h[l, i, 1], h[l, i, 2] ) )\n",
    "        print('')"
   ]
  },
  {
   "cell_type": "code",
   "execution_count": 3,
   "id": "c7901a14",
   "metadata": {},
   "outputs": [
    {
     "data": {
      "text/plain": [
       "<pyscf.pbc.gto.cell.Cell at 0x7fca0b98d040>"
      ]
     },
     "execution_count": 3,
     "metadata": {},
     "output_type": "execute_result"
    }
   ],
   "source": [
    "# build a unit cell\n",
    "a = np.eye(3) * 4.0\n",
    "atom = 'Si 0 0 0'\n",
    "\n",
    "cell = gto.M(a = a,\n",
    "             atom = atom,\n",
    "             unit = 'bohr',\n",
    "             basis = 'sto-3g',\n",
    "             pseudo = 'gth-blyp',\n",
    "             precision = 1.0e-8,\n",
    "             dimension = 3)\n",
    "cell.build()"
   ]
  },
  {
   "cell_type": "code",
   "execution_count": 4,
   "id": "62d4394c",
   "metadata": {},
   "outputs": [],
   "source": [
    "# get plane wave basis information\n",
    "basis = plane_wave_basis(cell,                            \n",
    "                         ke_cutoff = 500.0 / 27.21138602,\n",
    "                         n_kpts = [1, 1, 1],\n",
    "                         use_pseudopotential = True)"
   ]
  },
  {
   "cell_type": "code",
   "execution_count": 5,
   "id": "9e39a624",
   "metadata": {
    "scrolled": false
   },
   "outputs": [],
   "source": [
    "# print gth pseudopotential parameters\n",
    "#print_gth_parameters(cell, basis)"
   ]
  },
  {
   "cell_type": "code",
   "execution_count": 6,
   "id": "67391973",
   "metadata": {},
   "outputs": [],
   "source": [
    "# grab the gth pseudopotential parameters (local):\n",
    "# Zion, rloc, c1, c2, c3, c4\n",
    "\n",
    "natom = len(cell._atom)\n",
    "\n",
    "for center in range (0, natom):\n",
    "    Zion = basis.gth_params.Zion[center]\n",
    "    rloc = basis.gth_params.rloc[center]\n",
    "    c1 = basis.gth_params.local_cn[center][0]\n",
    "    c2 = basis.gth_params.local_cn[center][1]\n",
    "    c3 = basis.gth_params.local_cn[center][2]\n",
    "    c4 = basis.gth_params.local_cn[center][3]"
   ]
  },
  {
   "cell_type": "code",
   "execution_count": 7,
   "id": "6480ad90",
   "metadata": {},
   "outputs": [],
   "source": [
    "# grab the gth pseudopotential parameters (nonlocal):\n",
    "# rl, hlij\n",
    "for center in range (0, natom):\n",
    "    rl = basis.gth_params.rl[center]\n",
    "    h_lij = basis.gth_params.hgth[center]\n",
    "     "
   ]
  },
  {
   "cell_type": "code",
   "execution_count": 8,
   "id": "bd4e4999",
   "metadata": {},
   "outputs": [],
   "source": [
    "# get local components of the pseudopotential matrix\n",
    "for kid in range (0, len(basis.kpts) ):\n",
    "    vl = get_gth_pseudopotential(basis, kid, pp_component = 'local')"
   ]
  },
  {
   "cell_type": "code",
   "execution_count": 9,
   "id": "c07faa8e",
   "metadata": {},
   "outputs": [],
   "source": [
    "# get local components of the pseudopotential matrix\n",
    "for kid in range (0, len(basis.kpts) ):\n",
    "    vnl = get_gth_pseudopotential(basis, kid, pp_component = 'nonlocal')"
   ]
  },
  {
   "cell_type": "code",
   "execution_count": null,
   "id": "259afbdd",
   "metadata": {},
   "outputs": [],
   "source": []
  }
 ],
 "metadata": {
  "kernelspec": {
   "display_name": "Python 3 (ipykernel)",
   "language": "python",
   "name": "python3"
  },
  "language_info": {
   "codemirror_mode": {
    "name": "ipython",
    "version": 3
   },
   "file_extension": ".py",
   "mimetype": "text/x-python",
   "name": "python",
   "nbconvert_exporter": "python",
   "pygments_lexer": "ipython3",
   "version": "3.9.12"
  }
 },
 "nbformat": 4,
 "nbformat_minor": 5
}
