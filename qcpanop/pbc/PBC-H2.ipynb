{
 "cells": [
  {
   "cell_type": "markdown",
   "id": "practical-invalid",
   "metadata": {},
   "source": [
    "Bulk Hydrogen calculation\n",
    "-------------------------------\n",
    "\n",
    "Set Hydrogen in BCC crystal format 1 atom at center the other at zero"
   ]
  },
  {
   "cell_type": "code",
   "execution_count": 8,
   "id": "electoral-spelling",
   "metadata": {},
   "outputs": [],
   "source": [
    "from ase.build import bulk\n",
    "from ase.visualize import view\n",
    "from ase.lattice.cubic import BodyCenteredCubic"
   ]
  },
  {
   "cell_type": "code",
   "execution_count": 15,
   "id": "isolated-selling",
   "metadata": {},
   "outputs": [],
   "source": [
    "cell1 = bulk('H', 'bcc', a=2.0, cubic=True)"
   ]
  },
  {
   "cell_type": "code",
   "execution_count": 16,
   "id": "abstract-marathon",
   "metadata": {},
   "outputs": [
    {
     "data": {
      "application/vnd.jupyter.widget-view+json": {
       "model_id": "f996f8e38b024344bdfa88535d2e58dc",
       "version_major": 2,
       "version_minor": 0
      },
      "text/plain": [
       "HBox(children=(NGLWidget(), VBox(children=(Dropdown(description='Show', options=('All', 'H'), value='All'), Dr…"
      ]
     },
     "metadata": {},
     "output_type": "display_data"
    }
   ],
   "source": [
    "view(cell1, viewer='ngl')"
   ]
  },
  {
   "cell_type": "code",
   "execution_count": 17,
   "id": "weird-biotechnology",
   "metadata": {},
   "outputs": [
    {
     "data": {
      "text/plain": [
       "{'_cellobj': Cell([2.0, 2.0, 2.0]),\n",
       " '_pbc': array([ True,  True,  True]),\n",
       " 'arrays': {'numbers': array([1, 1]),\n",
       "  'positions': array([[0., 0., 0.],\n",
       "         [1., 1., 1.]])},\n",
       " '_celldisp': array([[0.],\n",
       "        [0.],\n",
       "        [0.]]),\n",
       " '_constraints': [],\n",
       " 'info': {},\n",
       " '_calc': None}"
      ]
     },
     "execution_count": 17,
     "metadata": {},
     "output_type": "execute_result"
    }
   ],
   "source": [
    "vars(cell1)"
   ]
  },
  {
   "cell_type": "code",
   "execution_count": null,
   "id": "acoustic-arctic",
   "metadata": {},
   "outputs": [],
   "source": []
  }
 ],
 "metadata": {
  "kernelspec": {
   "display_name": "Python 3",
   "language": "python",
   "name": "python3"
  },
  "language_info": {
   "codemirror_mode": {
    "name": "ipython",
    "version": 3
   },
   "file_extension": ".py",
   "mimetype": "text/x-python",
   "name": "python",
   "nbconvert_exporter": "python",
   "pygments_lexer": "ipython3",
   "version": "3.7.10"
  }
 },
 "nbformat": 4,
 "nbformat_minor": 5
}
