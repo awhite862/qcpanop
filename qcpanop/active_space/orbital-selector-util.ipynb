{
 "cells": [
  {
   "cell_type": "markdown",
   "id": "908edf46",
   "metadata": {},
   "source": [
    "# Orbital Selection Utilties\n",
    "\n",
    "Utilities for selecting active spaces "
   ]
  },
  {
   "cell_type": "code",
   "execution_count": 5,
   "id": "13ed139c",
   "metadata": {},
   "outputs": [
    {
     "name": "stderr",
     "output_type": "stream",
     "text": [
      "/Users/nickrubin/anaconda3/envs/fqe-dev/lib/python3.7/site-packages/pyscf/lib/misc.py:46: H5pyDeprecationWarning: Using default_file_mode other than 'r' is deprecated. Pass the mode to h5py.File() instead.\n",
      "  h5py.get_config().default_file_mode = 'a'\n"
     ]
    }
   ],
   "source": [
    "import numpy as np\n",
    "from pyscf import gto, scf, lo\n",
    "from pyscf.tools import molden\n",
    "from pyscf.tools import mo_mapping"
   ]
  },
  {
   "cell_type": "code",
   "execution_count": 6,
   "id": "b3dd5265",
   "metadata": {},
   "outputs": [],
   "source": [
    "# files settings\n",
    "scf_type = 'rhf'\n",
    "spin = 0\n",
    "basis = 'ccpvdz'\n",
    "loc_type = 'noloc'\n",
    "chkfile_path = 'pm_localized_rohf_ccpvdz_spin5.chk'\n"
   ]
  },
  {
   "cell_type": "code",
   "execution_count": 7,
   "id": "3b0654cb",
   "metadata": {},
   "outputs": [],
   "source": [
    "# load molecule and scf_data\n",
    "mol, scf_data = scf.chkfile.load_scf(chkfile_path)\n",
    "# load split localized MOs\n",
    "# loc_mo_coeffs = np.load(\"{}_localized_{}_{}_spin{}_localized_mocoeffs.npy\".format(loc_type, scf_type, basis, spin))"
   ]
  },
  {
   "cell_type": "code",
   "execution_count": 8,
   "id": "7b65debe",
   "metadata": {},
   "outputs": [],
   "source": [
    "# Utility function for looking at coeffs / AO in the MO\n",
    "def coeff_labeler(mo_coeff_vec, mol, threshold=0.1):\n",
    "    support_idx = np.where(np.abs(mo_coeff_vec) > threshold)[0]\n",
    "    for idx in support_idx:\n",
    "        ao_label = mol.ao_labels()[idx].split(' ')\n",
    "        ao_label = str(int(ao_label[0]) + 1) + \" \".join([xx for xx in ao_label[1:]])\n",
    "        print(idx+1,  ao_label, mo_coeff_vec[idx])\n",
    "\n",
    "def ao_label_printer(mol):\n",
    "    for idx, label in enumerate(mol.ao_labels()):\n",
    "        print(idx+1, label)\n",
    "        \n",
    "def ao_dist(mo_coeffs, mol, ao_list, threshold=0.1):\n",
    "    cnt = 0\n",
    "    for ao in ao_list:\n",
    "        comp = mo_mapping.mo_comps(ao, mol, mo_coeffs)\n",
    "        print('counter\\tMO-id    {} components'.format(ao))\n",
    "        for i,c in enumerate(comp):\n",
    "            if np.abs(c) > threshold:\n",
    "                print('%-3d\\t%-3d      %.10f' % (cnt, i, c))\n",
    "                cnt += 1\n",
    "\n",
    "def ao_dist_combined(mo_coeffs, mol, ao_list, threshold=0.1):\n",
    "    cnt = 0\n",
    "    comp = mo_mapping.mo_comps(ao_list, mol, mo_coeffs)\n",
    "    print('counter\\tMO-id    {} components'.format(\" \".join(ao_list)))\n",
    "    for i,c in enumerate(comp):\n",
    "        if np.abs(c) > threshold:\n",
    "            print('%-3d\\t%-3d      %.10f' % (cnt, i, c))\n",
    "            cnt += 1"
   ]
  },
  {
   "cell_type": "code",
   "execution_count": 181,
   "id": "89c53bd5",
   "metadata": {},
   "outputs": [
    {
     "name": "stdout",
     "output_type": "stream",
     "text": [
      "counter\tMO-id    C 2pz components\n",
      "0  \t75       0.9767284611\n",
      "1  \t92       0.9735007323\n",
      "2  \t93       0.9910382845\n",
      "3  \t95       0.9733279993\n",
      "4  \t96       0.9711355445\n",
      "5  \t103      0.7830765277\n",
      "6  \t104      0.9099449093\n",
      "7  \t108      0.9643976501\n",
      "8  \t109      0.9728532003\n",
      "9  \t114      0.7453815012\n",
      "10 \t119      0.9712293846\n",
      "11 \t129      0.9683306687\n",
      "12 \t132      0.7517583563\n",
      "13 \t133      0.8023903457\n",
      "14 \t134      0.7923734459\n",
      "counter\tMO-id    N 2pz components\n",
      "15 \t74       0.5817032789\n",
      "16 \t77       0.6641081181\n",
      "17 \t83       0.6611417483\n",
      "18 \t97       0.5848215579\n",
      "\n",
      "counter\tMO-id    C 2pz N 2pz components\n",
      "0  \t47       0.4939865317\n",
      "1  \t74       0.9859476527\n",
      "2  \t75       0.9938209759\n",
      "3  \t77       0.9849787481\n",
      "4  \t79       0.4943949594\n",
      "5  \t83       0.9836408997\n",
      "6  \t92       0.9920000941\n",
      "7  \t93       0.9935671954\n",
      "8  \t95       0.9901104446\n",
      "9  \t96       0.9884294861\n",
      "10 \t97       0.9873916377\n",
      "11 \t98       0.4958513657\n",
      "12 \t99       0.4952272280\n",
      "13 \t103      0.9681514257\n",
      "14 \t104      0.9726477754\n",
      "15 \t106      0.4936417304\n",
      "16 \t107      0.4786152385\n",
      "17 \t108      0.9933491337\n",
      "18 \t109      0.9914534475\n",
      "19 \t114      0.9914754389\n",
      "20 \t119      0.9928561888\n",
      "21 \t121      0.4956463380\n",
      "22 \t122      0.4960512187\n",
      "23 \t125      0.4974171948\n",
      "24 \t129      0.9949696343\n",
      "25 \t132      0.9931336831\n",
      "26 \t133      0.9929406990\n",
      "27 \t134      0.9935492865\n",
      "28 \t485      0.4961489488\n",
      "\n",
      "counter\tMO-id    Fe 3d components\n",
      "0  \t82       0.9961319910\n",
      "1  \t88       0.9938836822\n",
      "2  \t105      0.9688589182\n",
      "3  \t106      0.4735663360\n",
      "4  \t107      0.4686715289\n",
      "5  \t137      0.8875041801\n",
      "\n",
      "counter\tMO-id    Fe 4d components\n",
      "0  \t152      0.4770787479\n",
      "1  \t153      0.4858196094\n",
      "2  \t154      0.8455713069\n",
      "3  \t155      0.9712807859\n",
      "4  \t167      0.5232458300\n",
      "5  \t259      0.4989368363\n",
      "\n",
      "counter\tMO-id    S 3p S 3s components\n",
      "0  \t52       0.4740877826\n",
      "1  \t62       0.9831681575\n",
      "2  \t94       0.8727921382\n",
      "3  \t100      0.9634077227\n",
      "4  \t138      0.5073517850\n"
     ]
    }
   ],
   "source": [
    "ao_dist(scf_data['mo_coeff'], mol, ['C 2pz', 'N 2pz'], threshold=0.5)\n",
    "print()\n",
    "ao_dist_combined(scf_data['mo_coeff'], mol, ['C 2pz', 'N 2pz'], threshold=0.45)\n",
    "print()\n",
    "ao_dist_combined(scf_data['mo_coeff'], mol, ['Fe 3d'], threshold=0.3)\n",
    "print()\n",
    "ao_dist_combined(scf_data['mo_coeff'], mol, ['Fe 4d'], threshold=0.3)\n",
    "print()\n",
    "ao_dist_combined(scf_data['mo_coeff'], mol, ['S 3p', 'S 3s'], threshold=0.3)"
   ]
  },
  {
   "cell_type": "code",
   "execution_count": 260,
   "id": "c5d3d9a8",
   "metadata": {},
   "outputs": [
    {
     "name": "stdout",
     "output_type": "stream",
     "text": [
      "pi-electrons  24\n",
      "pi-occ orbs  13\n",
      "pi-virt orbs  11\n",
      "Orbital Energy  0.3454090557835178265655429186153924092650413513183593750000000000000000000000000000000\n",
      "Orbital Occ  0.000000\n",
      "Orbital Coefficients\n",
      "2 1C 2s     0.36046397339277797\n",
      "3 1C 3s     0.2826702734566321\n",
      "4 1C 2px    -0.44370956652561955\n",
      "5 1C 2py    0.46568138985636354\n",
      "6 1C 2pz    0.19859105761041393\n",
      "7 1C 3px    -0.2228035689140748\n",
      "8 1C 3py    0.2340526963418717\n",
      "9 1C 3pz    0.1363819216513998\n",
      "31 5S 2s     -0.14549528530684075\n",
      "32 5S 3s     -0.3877280224432767\n",
      "33 5S 4s     -0.12839158155732916\n",
      "37 5S 3px    -0.4119559263476723\n",
      "38 5S 3py    0.43241194970931524\n",
      "39 5S 3pz    0.20199341038099053\n",
      "40 5S 4px    -0.29466586842823556\n",
      "41 5S 4py    0.30929757965302607\n",
      "42 5S 4pz    0.15780159618062697\n",
      "458 42Fe 4pz    0.1382519951916387\n",
      "\n"
     ]
    }
   ],
   "source": [
    "# porphyrin has a \n",
    "aromatic_occ = [(74, 2), (75, 2), (77, 2), (83, 2), (92, 2), (93, 2), (95, 2), (96, 2), \n",
    "                (97, 2), (98, 2), (99, 2), (103, 1), (104, 1)]  # 97 is suspect  mostly a  4s-S in 3d Fe\n",
    "aromatic_virt = [108, 109, 114, 119, 121, 122, 125, 129, 132, 133, 134] # 121 maybe 122 also is kinda the same\n",
    "print(\"pi-electrons \", sum([x[1] for x in aromatic_occ]))\n",
    "print(\"pi-occ orbs \", len(aromatic_occ))\n",
    "print(\"pi-virt orbs \", len(aromatic_virt))\n",
    "fe3d = [(82, 2), (88, 2), (105, 1), (106, 1), (107, 1)]\n",
    "fe3d_virt = [137]\n",
    "cys_occ = [(52, 2), (62, 2), (94, 2), (100, 2), (138, 0) ]\n",
    "fe4d = [152, 153, 154, 155, 167, 259]\n",
    "orbital_index = 138\n",
    "print(\"Orbital Energy {: 5.85f}\".format(scf_data['mo_energy'][orbital_index]))\n",
    "print(\"Orbital Occ {: 5f}\".format(scf_data['mo_occ'][orbital_index]))\n",
    "print(\"Orbital Coefficients\")\n",
    "coeff_labeler(loc_mo_coeffs[:, orbital_index], mol)\n",
    "print()"
   ]
  },
  {
   "cell_type": "code",
   "execution_count": 250,
   "id": "2c950983",
   "metadata": {},
   "outputs": [
    {
     "name": "stdout",
     "output_type": "stream",
     "text": [
      "[2.0, 2.0, 2.0, 2.0, 2.0, 2.0, 2.0, 2.0, 2.0, 2.0, 2.0, 1.0, 1.0, 2.0, 2.0, 1.0, 1.0, 1.0, 2.0, 2.0, 2.0, 2.0, 0.0, 0.0, 0.0, 0.0, 0.0, 0.0, 0.0, 0.0, 0.0, 0.0, 0.0, 0.0, 0.0, 0.0, 0.0, 0.0, 0.0, 0.0, 0.0]\n"
     ]
    }
   ],
   "source": [
    "# pi system for sto-3g system\n",
    "# (4 * 5) = 20 Carbons contributing 2pz orbitals\n",
    "# 4 N2 contributing 2pz orbitals = 6 electrons (4 from pyrroligic and 2 from other N2)\n",
    "# 24 orbitals with 20 + 2 * 4 = 28 electrons (14 occupied, 10 virt)\n",
    "# 108 kinda looks like pi*\n",
    "occ_orbs = aromatic_occ + fe3d + cys_occ[:4]\n",
    "virt_orbs = aromatic_virt + [cys_occ[-1][0]] + fe4d + fe3d_virt\n",
    "occ_orbs = [xx[0] for xx in occ_orbs]\n",
    "occupations = [scf_data['mo_occ'][xx] for xx in occ_orbs + virt_orbs]\n",
    "print(occupations)"
   ]
  },
  {
   "cell_type": "code",
   "execution_count": 251,
   "id": "94945c9f",
   "metadata": {},
   "outputs": [
    {
     "name": "stdout",
     "output_type": "stream",
     "text": [
      "-0.9224495690226451\n",
      "-0.7330135269479728\n",
      "-0.587492496555132\n",
      "-0.5721620565067989\n",
      "-0.5672474995770829\n",
      "-0.5435428047987265\n",
      "-0.538390289666352\n",
      "-0.4950945653521544\n",
      "-0.4391144477111199\n",
      "-0.43290961688955104\n",
      "-0.37981988169155806\n",
      "-0.37679311198308874\n",
      "-0.372944405798949\n",
      "-0.3656195362889749\n",
      "-0.3546597565406532\n",
      "-0.3471592777660545\n",
      "-0.34337591729785655\n",
      "-0.1956895019087616\n",
      "-0.17579606569074535\n",
      "-0.07239094251910093\n",
      "-0.043418068724443905\n",
      "-0.02223178397207971\n",
      "0.025807394745410814\n",
      "0.09265445288281504\n",
      "0.1832103616464083\n",
      "0.20533341801080585\n",
      "0.21190214199435572\n",
      "0.2119752251810004\n",
      "0.23056981775421728\n",
      "0.266188479795168\n",
      "0.29411561729352204\n",
      "0.29778107144260385\n",
      "0.3016281398166862\n",
      "0.33995815326835355\n",
      "0.3454090557835178\n",
      "0.46211230278945736\n",
      "0.4644392507973329\n",
      "0.4686341446706904\n",
      "0.4796612267023339\n",
      "0.608825649041476\n",
      "1.170234337123863\n",
      "22\n",
      "19\n",
      "39.0\n",
      "[74, 75, 77, 83, 92, 93, 95, 96, 97, 98, 99, 103, 104, 82, 88, 105, 106, 107, 52, 62, 94, 100]\n",
      "[108, 109, 114, 119, 121, 122, 125, 129, 132, 133, 134, 138, 152, 153, 154, 155, 167, 259, 137]\n"
     ]
    }
   ],
   "source": [
    "orb_energies = [scf_data['mo_energy'][xx] for xx in sorted(occ_orbs + virt_orbs)]\n",
    "for xx in orb_energies:\n",
    "    print(xx)\n",
    "print(len(occ_orbs))\n",
    "print(len(virt_orbs))\n",
    "print(sum(occupations))\n",
    "print(occ_orbs)\n",
    "print(virt_orbs)"
   ]
  },
  {
   "cell_type": "markdown",
   "id": "eff7d063",
   "metadata": {},
   "source": [
    "occ_orbitals = [26, 30, 31, 32, 33]\n",
    "virt_orbitals = [34, 35, 36, 37, 45, 53, 55, 62, 63, 70]\n",
    "CASCI Total Energy  -383.3544535258293\n",
    "CASCI CAS Energy  -13.7156422375474\n",
    "\n",
    "occ_orbitals = [26, 30, 31, 32, 33]\n",
    "virt_orbitals = [34, 35, 36, 37, 45]\n",
    "CASCI Total Energy  -383.33191042526494\n",
    "CASCI CAS Energy  -13.69309913698305\n"
   ]
  },
  {
   "cell_type": "code",
   "execution_count": null,
   "id": "214b92cb",
   "metadata": {},
   "outputs": [],
   "source": []
  }
 ],
 "metadata": {
  "kernelspec": {
   "display_name": "Python 3 (ipykernel)",
   "language": "python",
   "name": "python3"
  },
  "language_info": {
   "codemirror_mode": {
    "name": "ipython",
    "version": 3
   },
   "file_extension": ".py",
   "mimetype": "text/x-python",
   "name": "python",
   "nbconvert_exporter": "python",
   "pygments_lexer": "ipython3",
   "version": "3.7.10"
  }
 },
 "nbformat": 4,
 "nbformat_minor": 5
}
